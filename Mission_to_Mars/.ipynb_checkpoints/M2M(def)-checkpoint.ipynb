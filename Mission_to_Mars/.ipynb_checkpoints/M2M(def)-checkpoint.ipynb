{
 "cells": [
  {
   "cell_type": "code",
   "execution_count": 76,
   "metadata": {},
   "outputs": [],
   "source": [
    "from bs4 import BeautifulSoup as bs\n",
    "from splinter import Browser\n",
    "import os\n",
    "import pandas as pd\n",
    "import time\n",
    "import pymongo"
   ]
  },
  {
   "cell_type": "code",
   "execution_count": 77,
   "metadata": {},
   "outputs": [],
   "source": [
    "def init_browser():\n",
    "    # @NOTE: Replace the path with your actual path to the chromedriver\n",
    "    import os\n",
    "    if os.name==\"nt\":\n",
    "        executable_path = {'executable_path': './chromedriver.exe'}\n",
    "    else:\n",
    "        executable_path = {\"executable_path\": \"C:/Users/Jordo/OneDrive/Desktop/chromedriver\"}\n",
    "    return Browser(\"chrome\", **executable_path, headless=False)"
   ]
  },
  {
   "cell_type": "markdown",
   "metadata": {},
   "source": [
    "###### Scrape the [NASA Mars News Site](https://mars.nasa.gov/news/) \n",
    "* Collect the latest News Title and Paragraph Text.\n",
    "* Assign the text to variables that you can reference later."
   ]
  },
  {
   "cell_type": "code",
   "execution_count": 86,
   "metadata": {},
   "outputs": [
    {
     "data": {
      "text/plain": [
       "<function __main__.news()>"
      ]
     },
     "execution_count": 86,
     "metadata": {},
     "output_type": "execute_result"
    }
   ],
   "source": [
    "def news():\n",
    "    browser = init_browser()\n",
    "    nasa_url = 'https://mars.nasa.gov/news'\n",
    "    browser.visit(nasa_url)\n",
    "    time.sleep(5)\n",
    "    # HTML object\n",
    "    html = browser.html\n",
    "    # Parse HTML with Beautiful Soup\n",
    "    soup = BeautifulSoup(html, 'lxml')\n",
    "    mars_news  = []\n",
    "    for x in soup.find_all('li', class_='slide'):\n",
    "        news_title = x.find_all('div', class_='content_title')[0].text\n",
    "        news_p = x.find_all('div', class_='article_teaser_body')[0].text\n",
    "        mars_news =  [news_title, news_p]\n",
    "        break\n",
    "    browser.quit()\n",
    "    return mars_news \n",
    "news"
   ]
  },
  {
   "cell_type": "markdown",
   "metadata": {},
   "source": [
    "###### JPL Mars Space Images\n",
    "\n",
    "Visit the url for JPL Featured Space Image [here](https://www.jpl.nasa.gov/spaceimages/?search=&category=Mars).\n",
    "\n",
    "  * Use splinter to navigate the site and find the image url for the current Featured Mars Image and assign the url string to a variable called `featured_image_url`.\n",
    "\n",
    "  * Make sure to find the image url to the full size `.jpg` image.\n",
    "\n",
    "  * Make sure to save a complete url string for this image."
   ]
  },
  {
   "cell_type": "code",
   "execution_count": 33,
   "metadata": {},
   "outputs": [
    {
     "data": {
      "text/plain": [
       "'https://www.jpl.nasa.gov/spaceimages/images/wallpaper/PIA16726-1920x1200.jpg'"
      ]
     },
     "execution_count": 33,
     "metadata": {},
     "output_type": "execute_result"
    }
   ],
   "source": [
    "Featured_Space_Image_url = \"https://www.jpl.nasa.gov/spaceimages/?search=&category=Mars\"\n",
    "browser.visit(Featured_Space_Image_url)\n",
    "image_html = browser.html\n",
    "image_soup = bs(image_html, 'html.parser')\n",
    "\n",
    "url2 = image_soup.find('article',class_='carousel_item')['style'][23:-3]\n",
    "image_url = \"https://www.jpl.nasa.gov/spaceimages/?search=&category=featured#submit\"\n",
    "\n",
    "browser.visit(image_url)\n",
    "featured_image_url = 'https://www.jpl.nasa.gov' + url2\n",
    "featured_image_url"
   ]
  },
  {
   "cell_type": "markdown",
   "metadata": {},
   "source": [
    "###### Mars Weather\n",
    " Visit the Mars Weather twitter account [here](https://twitter.com/marswxreport?lang=en)\n",
    "   * Scrape the latest Mars weather tweet from the page.\n",
    "   * Save the tweet text for the weather report as a variable called "
   ]
  },
  {
   "cell_type": "code",
   "execution_count": 72,
   "metadata": {},
   "outputs": [],
   "source": [
    "#     Twitter_url = 'https://twitter.com/marswxreport?lang=en'\n",
    "#     browser.visit(Twitter_url)\n",
    "#     time.sleep(5)\n",
    "#     html = browser.html\n",
    "#     soup = BeautifulSoup(html, 'lxml')\n",
    "#     mars_weather = soup.find_all('span')\n",
    "#     for i in mars_weather:\n",
    "#         if 'InSight sol' in i.text:\n",
    "#             mars_weather.append(i.text)\n",
    "            "
   ]
  },
  {
   "cell_type": "code",
   "execution_count": null,
   "metadata": {},
   "outputs": [],
   "source": []
  },
  {
   "cell_type": "code",
   "execution_count": null,
   "metadata": {},
   "outputs": [],
   "source": [
    "Twitter_url = 'https://twitter.com/marswxreport?lang=en'\n",
    "browser.visit(Twitter_url)\n",
    "time.sleep(5)\n",
    "# twtr_html = browser.html\n",
    "# twtr_soup = bs(twtr_html, 'html.parser')"
   ]
  },
  {
   "cell_type": "code",
   "execution_count": null,
   "metadata": {},
   "outputs": [],
   "source": [
    "twtr_html = browser.html\n",
    "twtr_soup = BeautifulSoup(twtr_html, 'html.parser')"
   ]
  },
  {
   "cell_type": "code",
   "execution_count": 66,
   "metadata": {},
   "outputs": [],
   "source": [
    "# Find all elements that contain tweets\n",
    "latest_tweets = twtr_soup.find_all('span', class_='css-901oao css-16my406 r-1qd0xha r-ad9z0x r-bcqeeo r-qvutc0')\n",
    "weather =[]\n",
    "for i in latest_tweets:\n",
    "    if \"sol\" in i.text:\n",
    "        weather.append(i.text)\n"
   ]
  },
  {
   "cell_type": "code",
   "execution_count": 67,
   "metadata": {},
   "outputs": [
    {
     "ename": "IndexError",
     "evalue": "list index out of range",
     "output_type": "error",
     "traceback": [
      "\u001b[1;31m---------------------------------------------------------------------------\u001b[0m",
      "\u001b[1;31mIndexError\u001b[0m                                Traceback (most recent call last)",
      "\u001b[1;32m<ipython-input-67-fe37b254ef51>\u001b[0m in \u001b[0;36m<module>\u001b[1;34m\u001b[0m\n\u001b[0;32m      1\u001b[0m \u001b[1;31m# weather\u001b[0m\u001b[1;33m\u001b[0m\u001b[1;33m\u001b[0m\u001b[1;33m\u001b[0m\u001b[0m\n\u001b[1;32m----> 2\u001b[1;33m \u001b[0mweather\u001b[0m\u001b[1;33m[\u001b[0m\u001b[1;36m0\u001b[0m\u001b[1;33m]\u001b[0m\u001b[1;33m.\u001b[0m\u001b[0mreplace\u001b[0m\u001b[1;33m(\u001b[0m\u001b[1;34m\"\\n\"\u001b[0m\u001b[1;33m,\u001b[0m \u001b[1;34m\" \"\u001b[0m\u001b[1;33m)\u001b[0m\u001b[1;33m\u001b[0m\u001b[1;33m\u001b[0m\u001b[0m\n\u001b[0m",
      "\u001b[1;31mIndexError\u001b[0m: list index out of range"
     ]
    }
   ],
   "source": [
    "# weather\n",
    "weather[0].replace(\"\\n\", \" \")"
   ]
  },
  {
   "cell_type": "code",
   "execution_count": 68,
   "metadata": {},
   "outputs": [
    {
     "data": {
      "text/plain": [
       "[]"
      ]
     },
     "execution_count": 68,
     "metadata": {},
     "output_type": "execute_result"
    }
   ],
   "source": [
    "weather"
   ]
  },
  {
   "cell_type": "code",
   "execution_count": null,
   "metadata": {},
   "outputs": [],
   "source": []
  }
 ],
 "metadata": {
  "kernelspec": {
   "display_name": "Python 3",
   "language": "python",
   "name": "python3"
  },
  "language_info": {
   "codemirror_mode": {
    "name": "ipython",
    "version": 3
   },
   "file_extension": ".py",
   "mimetype": "text/x-python",
   "name": "python",
   "nbconvert_exporter": "python",
   "pygments_lexer": "ipython3",
   "version": "3.7.4"
  }
 },
 "nbformat": 4,
 "nbformat_minor": 2
}
